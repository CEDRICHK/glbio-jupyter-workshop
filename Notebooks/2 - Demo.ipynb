{
 "cells": [
...
   "outputs": [],
   "source": [
    "data <- read.csv('http://dursi.ca/content/images/GSE37704_featurecounts.csv')\n",
    "metadata <- read.csv('http://dursi.ca/content/images/GSE37704_metadata.csv')"
   ]
  },
...
   },
   "outputs": [
    {
     "name": "stdout",
     "output_type": "stream",
     "text": [
      "'data.frame':\t19808 obs. of  8 variables:\n",
      " $ ensgene  : Factor w/ 19808 levels \"ENSG00000000003\",..: 15488 19676 19628 19554 19334 15792 16078 15867 15778 15793 ...\n",
      " $ length   : int  918 718 1982 939 939 3214 5539 3395 2833 3424 ...\n",
      " $ SRR493366: int  0 0 23 0 0 124 1637 120 24 4 ...\n",
      " $ SRR493367: int  0 0 28 0 0 123 1831 153 48 9 ...\n",
      " $ SRR493368: int  0 0 29 0 0 205 2383 180 65 16 ...\n",
      " $ SRR493369: int  0 0 29 0 0 207 1226 236 44 14 ...\n",
      " $ SRR493370: int  0 0 28 0 0 212 1326 255 48 16 ...\n",
      " $ SRR493371: int  0 0 46 0 0 258 1504 357 64 16 ...\n"
     ]
    }

...
   "outputs": [
    {
     "data": {
      "image/png":
      "iVBORw0KGgoAAAANSUhEUgAAA0gAAANICAYAAAD958/bAAAEDWlDQ1BJQ0MgUHJvZmlsZQAAO
      I2NVV1oHFUUPrtzZyMkzlNsNIV0qD8NJQ2TVjShtLp/3d02bpZJNtoi6GT27s6Yyc44M7v9oU9
      FUHwx6psUxL+3gCAo9Q/bPrQvlQol2tQgKD60+INQ6Ium65k7M5lpurHeZe58853vnnvuuWfvB
